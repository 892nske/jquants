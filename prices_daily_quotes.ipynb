{
 "cells": [
  {
   "cell_type": "code",
   "execution_count": 1,
   "id": "81f2f9c0-b910-439f-987f-ab89a6824ee2",
   "metadata": {},
   "outputs": [],
   "source": [
    "import requests\n",
    "import json"
   ]
  },
  {
   "cell_type": "code",
   "execution_count": 2,
   "id": "f01fbc7e-0065-4565-b917-eb391ce02e99",
   "metadata": {},
   "outputs": [],
   "source": [
    "with open('idtoken.json', 'r', encoding='utf-8') as f:\n",
    "    idtoken = json.load(f)"
   ]
  },
  {
   "cell_type": "code",
   "execution_count": 16,
   "id": "cf6ec861-731a-49bf-acce-c77cb66da892",
   "metadata": {},
   "outputs": [
    {
     "data": {
      "text/plain": [
       "{'daily_quotes': [{'Date': '2023-03-24',\n",
       "   'Code': '86970',\n",
       "   'Open': 2047.0,\n",
       "   'High': 2069.0,\n",
       "   'Low': 2035.0,\n",
       "   'Close': 2045.0,\n",
       "   'UpperLimit': '0',\n",
       "   'LowerLimit': '0',\n",
       "   'Volume': 2202500.0,\n",
       "   'TurnoverValue': 4507051850.0,\n",
       "   'AdjustmentFactor': 1.0,\n",
       "   'AdjustmentOpen': 2047.0,\n",
       "   'AdjustmentHigh': 2069.0,\n",
       "   'AdjustmentLow': 2035.0,\n",
       "   'AdjustmentClose': 2045.0,\n",
       "   'AdjustmentVolume': 2202500.0}]}"
      ]
     },
     "execution_count": 16,
     "metadata": {},
     "output_type": "execute_result"
    }
   ],
   "source": [
    "idToken = idtoken['idToken']\n",
    "headers = {'Authorization': 'Bearer {}'.format(idToken)}\n",
    "r = requests.get(\"https://api.jquants.com/v1/prices/daily_quotes?code=86970&from=20230324&to=20230325\", headers=headers)\n",
    "r.json()"
   ]
  },
  {
   "cell_type": "code",
   "execution_count": 11,
   "id": "79443b58-53ca-4a48-83b2-00c7a7b8eb8a",
   "metadata": {},
   "outputs": [
    {
     "name": "stdout",
     "output_type": "stream",
     "text": [
      "{'daily_quotes': [{'Date': '2024-02-05', 'Code': '27800', 'Open': 4610.0, 'High': 4695.0, 'Low': 4545.0, 'Close': 4675.0, 'UpperLimit': '0', 'LowerLimit': '0', 'Volume': 324000.0, 'TurnoverValue': 1501864500.0, 'AdjustmentFactor': 1.0, 'AdjustmentOpen': 4610.0, 'AdjustmentHigh': 4695.0, 'AdjustmentLow': 4545.0, 'AdjustmentClose': 4675.0, 'AdjustmentVolume': 324000.0}, {'Date': '2024-02-06', 'Code': '27800', 'Open': 4715.0, 'High': 5130.0, 'Low': 4665.0, 'Close': 4955.0, 'UpperLimit': '0', 'LowerLimit': '0', 'Volume': 946800.0, 'TurnoverValue': 4669669000.0, 'AdjustmentFactor': 1.0, 'AdjustmentOpen': 4715.0, 'AdjustmentHigh': 5130.0, 'AdjustmentLow': 4665.0, 'AdjustmentClose': 4955.0, 'AdjustmentVolume': 946800.0}, {'Date': '2024-02-07', 'Code': '27800', 'Open': 4955.0, 'High': 5080.0, 'Low': 4900.0, 'Close': 5030.0, 'UpperLimit': '0', 'LowerLimit': '0', 'Volume': 384500.0, 'TurnoverValue': 1917587000.0, 'AdjustmentFactor': 1.0, 'AdjustmentOpen': 4955.0, 'AdjustmentHigh': 5080.0, 'AdjustmentLow': 4900.0, 'AdjustmentClose': 5030.0, 'AdjustmentVolume': 384500.0}]}\n"
     ]
    }
   ],
   "source": [
    "# APIエンドポイントとAPIキー\n",
    "url = 'https://api.jquants.com/v1/prices/daily_quotes'\n",
    "headers = {'Authorization': 'Bearer {}'.format(idToken)}\n",
    "\n",
    "# パラメータの指定\n",
    "params = {\n",
    "    'code': '27800',  # 銘柄コード\n",
    "    'from': '2024-02-05',\n",
    "    'to': '2024-02-07'\n",
    "}\n",
    "\n",
    "# APIリクエスト\n",
    "response = requests.get(url, headers=headers, params=params)\n",
    "\n",
    "# レスポンスの確認\n",
    "if response.status_code == 200:\n",
    "    data = response.json()\n",
    "    print(data)\n",
    "else:\n",
    "    print(f\"Error: {response.status_code}\")"
   ]
  },
  {
   "cell_type": "code",
   "execution_count": 10,
   "id": "a82fc1aa-15f2-4735-a555-18ba9ebe812b",
   "metadata": {},
   "outputs": [
    {
     "data": {
      "text/plain": [
       "{'message': 'Your subscription covers the following dates: 2022-02-22 ~ 2024-02-22. If you want more data, please check other plans:https://jpx-jquants.com/'}"
      ]
     },
     "execution_count": 10,
     "metadata": {},
     "output_type": "execute_result"
    }
   ],
   "source": [
    "response.json()"
   ]
  },
  {
   "cell_type": "code",
   "execution_count": 12,
   "id": "6f8d9300-e49f-4449-b031-dcf76342b2da",
   "metadata": {},
   "outputs": [],
   "source": [
    "d = data['daily_quotes']"
   ]
  },
  {
   "cell_type": "code",
   "execution_count": 15,
   "id": "92475678-6245-456f-a8ba-de435aa74647",
   "metadata": {},
   "outputs": [
    {
     "name": "stdout",
     "output_type": "stream",
     "text": [
      "{'Date': '2024-02-06', 'Code': '27800', 'Open': 4715.0, 'High': 5130.0, 'Low': 4665.0, 'Close': 4955.0, 'UpperLimit': '0', 'LowerLimit': '0', 'Volume': 946800.0, 'TurnoverValue': 4669669000.0, 'AdjustmentFactor': 1.0, 'AdjustmentOpen': 4715.0, 'AdjustmentHigh': 5130.0, 'AdjustmentLow': 4665.0, 'AdjustmentClose': 4955.0, 'AdjustmentVolume': 946800.0}\n"
     ]
    }
   ],
   "source": [
    "print(d[1])"
   ]
  },
  {
   "cell_type": "code",
   "execution_count": null,
   "id": "a78aff28-c4af-4ae2-afa9-def265812470",
   "metadata": {},
   "outputs": [],
   "source": []
  }
 ],
 "metadata": {
  "kernelspec": {
   "display_name": "Python 3 (ipykernel)",
   "language": "python",
   "name": "python3"
  },
  "language_info": {
   "codemirror_mode": {
    "name": "ipython",
    "version": 3
   },
   "file_extension": ".py",
   "mimetype": "text/x-python",
   "name": "python",
   "nbconvert_exporter": "python",
   "pygments_lexer": "ipython3",
   "version": "3.8.13"
  }
 },
 "nbformat": 4,
 "nbformat_minor": 5
}
